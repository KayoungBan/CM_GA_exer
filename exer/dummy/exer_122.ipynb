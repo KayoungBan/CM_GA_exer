{
 "cells": [
  {
   "cell_type": "code",
   "execution_count": 1,
   "metadata": {},
   "outputs": [],
   "source": [
    "%matplotlib inline\n",
    "\n",
    "def plot_pred():\n",
    "    func = toolbox.compile(expr=hof[0])\n",
    "    y_hat = []\n",
    "    y = []\n",
    "    for a, i in enumerate(t):\n",
    "        y_hat.append(func(i))\n",
    "        y.append(p[a])\n",
    "\n",
    "    from matplotlib import pyplot as plt\n",
    "    plt.plot(t,y)\n",
    "    plt.plot(t, y_hat)\n",
    "    plt.xlabel('time')  # x-axis\n",
    "    plt.ylabel('x(t)')  # y-axis\n",
    "    plt.title('Data')  # title\n",
    "    plt.grid()  # grid\n",
    "    plt.legend(['true','predicted'])\n",
    "    plt.show()  # plot show"
   ]
  },
  {
   "cell_type": "code",
   "execution_count": 2,
   "metadata": {
    "scrolled": true
   },
   "outputs": [],
   "source": [
    "# -*- coding: utf-8 -*-\n",
    "# 그 다음부터는 이거 여러번 실행해도 됨\n",
    "\"\"\"\n",
    "Created on Thu Jan  4 14:17:05 2018\n",
    "@author: Bany\n",
    "\"\"\"\n",
    "###############################import###############################\n",
    "import operator\n",
    "import math\n",
    "import random\n",
    "import pandas as pd\n",
    "import numpy\n",
    "import time\n",
    "\n",
    "from deap import algorithms\n",
    "from deap import base\n",
    "from deap import creator\n",
    "from deap import tools\n",
    "from deap import gp\n",
    "import matplotlib.pyplot as plt\n",
    "\n",
    "\n",
    "\n",
    "###################################################################\n",
    "\n",
    "###################### Define functions############################\n",
    "def safeDiv(left, right):\n",
    "    try:\n",
    "        return left / right\n",
    "    except ZeroDivisionError:\n",
    "        return 1\n",
    "    \n",
    "def sqrt(left):\n",
    "    if left>=0:\n",
    "        return left**0.5\n",
    "    else:\n",
    "        return 0\n",
    "    \n",
    "random.seed(time.time())\n",
    "ran1 = int(random.random()*10)\n",
    "ran2 =int(random.random()*10)\n",
    "\n",
    "    \n",
    "pset = gp.PrimitiveSet(\"MAIN\", 1)\n",
    "pset.addPrimitive(operator.add, 2)\n",
    "pset.addPrimitive(operator.sub, 2)\n",
    "pset.addPrimitive(operator.mul, 2)\n",
    "#pset.addPrimitive(safeDiv, 2)\n",
    "pset.addPrimitive(sqrt,1)\n",
    "#pset.addPrimitive(operator.neg, 1)\n",
    "pset.addPrimitive(math.cos, 1)\n",
    "pset.addPrimitive(math.sin, 1)\n",
    "pset.addEphemeralConstant(\"rand\", lambda: random.randint(1,2))\n",
    "#pset.addEphemeralConstant(\"rand\"+str(ran1)+str(ran2), lambda: random.randint(min(ran1,ran2),max(ran1,ran2)))\n",
    "pset.renameArguments(ARG0='x')\n",
    "\n",
    "\n",
    "\n",
    "creator.create(\"FitnessMin\", base.Fitness, weights=(-1.0,))\n",
    "creator.create(\"Individual\", gp.PrimitiveTree, fitness=creator.FitnessMin)\n",
    "\n",
    "toolbox = base.Toolbox()\n",
    "toolbox.register(\"expr\", gp.genHalfAndHalf, pset=pset, min_=1, max_=3)\n",
    "toolbox.register(\"individual\", tools.initIterate, creator.Individual, toolbox.expr)\n",
    "toolbox.register(\"population\", tools.initRepeat, list, toolbox.individual)\n",
    "toolbox.register(\"compile\", gp.compile, pset=pset)\n",
    "\n",
    "#########################input DATA#################################\n",
    "\n",
    "'''g = pd.read_csv('os.csv')\n",
    "p = g['x']\n",
    "t = list(numpy.arange(-2,2,0.01))\n",
    "f = {}\n",
    "for i in range(len(t)):\n",
    "    f[t[i]] = p[i]'''\n",
    "\n",
    "g = pd.read_csv('data.csv')\n",
    "p = g['x']\n",
    "t = list(numpy.arange(0,1000))\n",
    "f = {}\n",
    "for i in range(len(t)):\n",
    "    f[t[i]] = p[i]\n",
    "\n",
    "###################################################################\n",
    "\n"
   ]
  },
  {
   "cell_type": "code",
   "execution_count": 3,
   "metadata": {},
   "outputs": [],
   "source": [
    "def evalSymbReg(individual, points):\n",
    "    # Transform the tree expression in a callable function\n",
    "    func = toolbox.compile(expr=individual)\n",
    "    start1 = time.time()\n",
    "    # Evaluate the mean squared error between the expression\n",
    "    sqerrors = ((func(x) - f[x])**2 for x in points)\n",
    "    start2 = time.time()\n",
    "    try:\n",
    "        return max(sqerrors),\n",
    "    except IndexError:\n",
    "        return max(sqerrors),\n",
    "\n",
    "###################################################################\n",
    "\n"
   ]
  },
  {
   "cell_type": "code",
   "execution_count": null,
   "metadata": {
    "scrolled": true
   },
   "outputs": [
    {
     "name": "stdout",
     "output_type": "stream",
     "text": [
      "   \t      \t                      fitness                      \t              size             \n",
      "   \t      \t---------------------------------------------------\t-------------------------------\n",
      "gen\tnevals\tavg        \tmax        \tmin    \tstd        \tavg  \tmax\tmin\tstd    \n",
      "0  \t2000  \t4.90553e+20\t9.80163e+23\t1.01015\t2.19116e+22\t4.681\t15 \t2  \t2.72493\n",
      "1  \t1727  \t9.50837e+11\t9.35032e+14\t1.01015\t2.95242e+13\t4.401\t16 \t1  \t2.55288\n",
      "2  \t1717  \t4.94031e+20\t9.88062e+23\t1.01015\t2.20882e+22\t5.2815\t24 \t1  \t2.98534\n",
      "3  \t1716  \t4.95022e+20\t9.90043e+23\t1.01015\t2.21325e+22\t6.0915\t26 \t1  \t3.41952\n",
      "4  \t1737  \t9.90054e+20\t1.98009e+24\t1.01015\t4.4265e+22 \t6.9035\t26 \t1  \t3.86422\n",
      "5  \t1673  \t5.54069e+15\t3.98402e+18\t1.01015\t1.31517e+17\t7.852 \t26 \t1  \t4.2516 \n",
      "6  \t1752  \t1.0903e+22 \t1.58724e+25\t1.01015\t3.6693e+23 \t8.744 \t29 \t1  \t4.6815 \n",
      "7  \t1741  \t2.47909e+21\t3.96811e+24\t1.01015\t9.14161e+22\t9.457 \t40 \t1  \t4.95148\n",
      "8  \t1730  \t2.59671e+27\t4.03786e+30\t1.01015\t9.29749e+28\t10.5175\t35 \t1  \t5.5837 \n",
      "9  \t1679  \t3.39324e+21\t3.96089e+24\t1.01015\t9.57353e+22\t11.475 \t37 \t1  \t5.86876\n",
      "10 \t1739  \t1.02503e+21\t1.04948e+24\t1.01015\t3.22922e+22\t12.2355\t52 \t1  \t6.3813 \n",
      "11 \t1705  \t5.91035e+21\t3.94435e+24\t1.01015\t1.31768e+23\t12.9055\t52 \t1  \t6.71651\n",
      "12 \t1717  \t4.3583e+21 \t3.96811e+24\t1.01015\t1.0062e+23 \t13.7245\t52 \t1  \t7.05632\n",
      "13 \t1769  \t1.45937e+27\t9.90039e+29\t1.01015\t3.76448e+28\t14.154 \t51 \t1  \t7.44455\n",
      "14 \t1736  \t8.48912e+21\t3.97604e+24\t1.01015\t1.603e+23  \t14.6195\t57 \t1  \t7.76233\n",
      "15 \t1716  \t7.91294e+30\t1.58249e+34\t1.01015\t3.53767e+32\t15.372 \t52 \t1  \t8.12623\n",
      "16 \t1719  \t9.80261e+21\t3.97244e+24\t1.01015\t1.81012e+23\t16.1075\t54 \t1  \t8.51081\n",
      "17 \t1706  \t3.96438e+21\t3.97209e+24\t1.01015\t1.03818e+23\t16.448 \t55 \t1  \t8.915  \n"
     ]
    },
    {
     "name": "stderr",
     "output_type": "stream",
     "text": [
      "<string>:1: RuntimeWarning: overflow encountered in long_scalars\n"
     ]
    }
   ],
   "source": [
    "\n",
    "toolbox.register(\"evaluate\", evalSymbReg, points=t)\n",
    "toolbox.register(\"select\", tools.selTournament, tournsize=10)\n",
    "toolbox.register(\"mate\", gp.cxOnePoint)\n",
    "toolbox.register(\"expr_mut\", gp.genFull, min_=0, max_=2)\n",
    "toolbox.register(\"mutate\", gp.mutUniform, expr=toolbox.expr_mut, pset=pset)\n",
    "\n",
    "toolbox.decorate(\"mate\", gp.staticLimit(key=operator.attrgetter(\"height\"), max_value=10))\n",
    "toolbox.decorate(\"mutate\", gp.staticLimit(key=operator.attrgetter(\"height\"), max_value=10))\n",
    "\n",
    "## random.seed(318)\n",
    "\n",
    "pop = toolbox.population(n=2000)\n",
    "hof = tools.HallOfFame(1)\n",
    "\n",
    "stats_fit = tools.Statistics(lambda ind: ind.fitness.values)\n",
    "stats_size = tools.Statistics(len)\n",
    "mstats = tools.MultiStatistics(fitness=stats_fit, size=stats_size)\n",
    "mstats.register(\"avg\", numpy.mean)\n",
    "mstats.register(\"std\", numpy.std)\n",
    "mstats.register(\"min\", numpy.min)\n",
    "mstats.register(\"max\", numpy.max)\n",
    "#############################################C.O, Muta,Gener##########\n",
    "try:\n",
    "    pop, log = algorithms.eaSimple(pop, toolbox, 0.8, 0.3, 5000, stats=mstats,\n",
    "                                   halloffame=hof, verbose=True)\n",
    "    print (hof[0])\n",
    "    plot_pred()\n",
    "except MemoryError:\n",
    "    print (hof[0])\n",
    "    plot_pred()\n",
    "except KeyboardInterrupt:\n",
    "    print (hof[0])\n",
    "    plot_pred()\n",
    "\n",
    "    \n",
    "\n",
    "# print log\n",
    "#print (pop)\n",
    "#print (log)\n",
    "\n"
   ]
  },
  {
   "cell_type": "code",
   "execution_count": 5,
   "metadata": {},
   "outputs": [
    {
     "data": {
      "text/plain": [
       "2.6"
      ]
     },
     "execution_count": 5,
     "metadata": {},
     "output_type": "execute_result"
    }
   ],
   "source": [
    "random.randint(1,100)/10"
   ]
  },
  {
   "cell_type": "code",
   "execution_count": 6,
   "metadata": {},
   "outputs": [
    {
     "name": "stdout",
     "output_type": "stream",
     "text": [
      "mul(sqrt(sub(mul(sqrt(2), sqrt(2)), 2)), mul(sqrt(x), sub(sub(x, sub(1, x)), sub(sin(x), x))))\n"
     ]
    }
   ],
   "source": [
    "print(pop[60])"
   ]
  },
  {
   "cell_type": "code",
   "execution_count": null,
   "metadata": {},
   "outputs": [],
   "source": []
  }
 ],
 "metadata": {
  "kernelspec": {
   "display_name": "Python 3",
   "language": "python",
   "name": "python3"
  },
  "language_info": {
   "codemirror_mode": {
    "name": "ipython",
    "version": 3
   },
   "file_extension": ".py",
   "mimetype": "text/x-python",
   "name": "python",
   "nbconvert_exporter": "python",
   "pygments_lexer": "ipython3",
   "version": "3.5.2"
  }
 },
 "nbformat": 4,
 "nbformat_minor": 2
}
