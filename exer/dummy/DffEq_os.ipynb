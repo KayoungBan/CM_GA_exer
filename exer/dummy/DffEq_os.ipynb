{
 "cells": [
  {
   "cell_type": "code",
   "execution_count": 1,
   "metadata": {},
   "outputs": [],
   "source": [
    "%matplotlib inline\n",
    "\n",
    "def plot_pred():\n",
    "    func = toolbox.compile(expr=hof[0])\n",
    "    y_hat = []\n",
    "    y = []\n",
    "    for a, i in enumerate(points):\n",
    "        y_hat.append(func(i))\n",
    "        y.append(p[a])\n",
    "\n",
    "    from matplotlib import pyplot as plt\n",
    "    plt.plot(points,y)\n",
    "    plt.plot(points, y_hat)\n",
    "    plt.xlabel('time')  # x-axis\n",
    "    plt.ylabel('x(t)')  # y-axis\n",
    "    plt.title('Data')  # title\n",
    "    plt.grid()  # grid\n",
    "    plt.legend(['true','predicted'])\n",
    "    plt.show()  # plot show"
   ]
  },
  {
   "cell_type": "code",
   "execution_count": 2,
   "metadata": {},
   "outputs": [
    {
     "name": "stdout",
     "output_type": "stream",
     "text": [
      "   \t      \t                fitness                \t              size             \n",
      "   \t      \t---------------------------------------\t-------------------------------\n",
      "gen\tnevals\tavg    \tmax  \tmin     \tstd    \tavg    \tmax\tmin\tstd    \n",
      "0  \t300   \t1.78879\t30.34\t0.450825\t2.67896\t3.54667\t7  \t2  \t1.49482\n",
      "1  \t166   \t1.43254\t44.4437\t0.183711\t3.05668\t3.60667\t12 \t1  \t1.77725\n",
      "2  \t166   \t2.16879\t315.736\t0.165572\t18.1873\t3.55   \t9  \t1  \t1.62506\n",
      "3  \t163   \t0.98255\t2.9829 \t0.165572\t0.712666\t3.42667\t9  \t1  \t1.45073\n",
      "4  \t153   \t0.836017\t14.538 \t0.165572\t0.979399\t3.77   \t11 \t1  \t1.64025\n",
      "5  \t158   \t0.944635\t18.9739\t0.165572\t1.61614 \t3.77667\t10 \t1  \t1.62894\n",
      "6  \t169   \t0.885819\t14.2181\t0.165572\t1.00296 \t4      \t10 \t1  \t1.87617\n",
      "7  \t167   \t0.731332\t3.35292\t0.165572\t0.56016 \t4.35   \t10 \t1  \t1.92722\n",
      "8  \t187   \t0.785916\t19.1852\t0.13008 \t1.2426  \t5.13667\t14 \t1  \t2.21465\n",
      "9  \t176   \t0.672788\t14.2339\t0.123719\t1.00764 \t5.71667\t14 \t1  \t2.48389\n",
      "10 \t176   \t0.786975\t32.4952\t0.123719\t2.56679 \t6.27333\t15 \t1  \t2.33922\n",
      "11 \t167   \t0.961666\t62.7581\t0.123719\t4.10149 \t6.75667\t16 \t1  \t2.30162\n",
      "12 \t170   \t0.630202\t18.7613\t0.114276\t1.55098 \t7.06333\t16 \t1  \t2.55199\n",
      "13 \t173   \t0.792442\t18.7749\t0.114276\t2.0836  \t7.07333\t17 \t1  \t2.3212 \n",
      "14 \t163   \t0.701482\t16.5323\t0.0935121\t1.92386 \t7.01   \t16 \t1  \t2.74042\n",
      "15 \t178   \t0.796168\t63.2953\t0.0935121\t3.82723 \t7.42333\t17 \t1  \t3.11942\n",
      "16 \t154   \t0.446513\t19.0443\t0.0512969\t1.18016 \t7.73333\t17 \t1  \t3.35095\n",
      "17 \t177   \t0.378618\t4.88791\t0.0512969\t0.470854\t9.01   \t22 \t1  \t3.68464\n",
      "18 \t177   \t0.394816\t2.552  \t0.0512969\t0.45627 \t10.14  \t23 \t2  \t3.86097\n",
      "19 \t175   \t0.347051\t2.84707\t0.0147194\t0.428075\t11     \t24 \t1  \t4.21347\n",
      "20 \t167   \t0.370537\t18.9739\t0.0147194\t1.15424 \t11.6   \t25 \t3  \t4.13441\n",
      "21 \t159   \t0.302206\t2.54483\t0.0147194\t0.36307 \t12.78  \t33 \t1  \t5.04298\n",
      "22 \t161   \t0.329424\t5.15351\t0.014539 \t0.494736\t14.1033\t32 \t1  \t5.23762\n",
      "23 \t165   \t0.464998\t18.9739\t0.0147194\t1.51044 \t14.8933\t34 \t1  \t6.13259\n",
      "24 \t188   \t0.271713\t3.71933\t0.0147194\t0.436801\t15.0867\t34 \t2  \t6.25719\n",
      "25 \t152   \t0.269631\t14.5905\t0.0147194\t0.88428 \t15.22  \t47 \t1  \t6.49602\n",
      "26 \t164   \t0.230995\t4.4082 \t0.0147194\t0.436685\t16.0633\t41 \t3  \t6.52171\n",
      "27 \t159   \t0.185306\t5.249  \t0.0144201\t0.410217\t17.2333\t40 \t1  \t6.7111 \n",
      "28 \t164   \t0.165298\t1.98267\t0.0143442\t0.292591\t18.3   \t43 \t1  \t7.23763\n",
      "29 \t174   \t0.172642\t2.54124\t0.00182347\t0.352515\t18.33  \t37 \t1  \t6.69037\n",
      "30 \t141   \t0.10727 \t2.61126\t0.00182347\t0.241954\t19.3   \t37 \t3  \t5.483  \n",
      "31 \t154   \t0.129872\t2.18033\t0.00182347\t0.269947\t19.7933\t39 \t3  \t5.94788\n",
      "32 \t165   \t0.129453\t2.54124\t0.00182347\t0.287201\t20.2867\t43 \t1  \t6.5175 \n",
      "33 \t173   \t0.16656 \t2.54124\t0.00182347\t0.341339\t20.5633\t43 \t1  \t7.38823\n",
      "34 \t168   \t0.131975\t1.52568\t0.00182347\t0.232491\t20.4233\t48 \t3  \t7.45637\n",
      "35 \t153   \t0.152313\t2.54124\t0.00182347\t0.324276\t19.82  \t43 \t2  \t7.13589\n",
      "36 \t178   \t0.237937\t16.1106\t0.00182347\t0.990786\t19.11  \t43 \t3  \t7.68318\n",
      "37 \t157   \t0.185061\t4.76458\t0.00182347\t0.449021\t18.3667\t39 \t1  \t6.31128\n",
      "38 \t184   \t0.185972\t4.09456\t5.12297e-33\t0.358825\t17.4767\t48 \t1  \t7.37899\n",
      "39 \t149   \t0.193025\t2.9829 \t5.12297e-33\t0.377824\t16.87  \t35 \t1  \t5.85205\n",
      "40 \t161   \t0.127091\t1.59859\t5.12297e-33\t0.216044\t16.4767\t36 \t1  \t6.14948\n",
      "add(mul(x, sub(x, neg(mul(x, sub(x, neg(mul(x, x))))))), x)\n"
     ]
    },
    {
     "ename": "NameError",
     "evalue": "name 'points' is not defined",
     "output_type": "error",
     "traceback": [
      "\u001b[0;31m---------------------------------------------------------------------------\u001b[0m",
      "\u001b[0;31mNameError\u001b[0m                                 Traceback (most recent call last)",
      "\u001b[0;32m<ipython-input-2-a2a17d53ba72>\u001b[0m in \u001b[0;36m<module>\u001b[0;34m()\u001b[0m\n\u001b[1;32m     75\u001b[0m                                halloffame=hof, verbose=True)\n\u001b[1;32m     76\u001b[0m     \u001b[0mprint\u001b[0m \u001b[0;34m(\u001b[0m\u001b[0mhof\u001b[0m\u001b[0;34m[\u001b[0m\u001b[0;36m0\u001b[0m\u001b[0;34m]\u001b[0m\u001b[0;34m)\u001b[0m\u001b[0;34m\u001b[0m\u001b[0m\n\u001b[0;32m---> 77\u001b[0;31m     \u001b[0mplot_pred\u001b[0m\u001b[0;34m(\u001b[0m\u001b[0;34m)\u001b[0m\u001b[0;34m\u001b[0m\u001b[0m\n\u001b[0m\u001b[1;32m     78\u001b[0m \u001b[0;32mexcept\u001b[0m \u001b[0mMemoryError\u001b[0m\u001b[0;34m:\u001b[0m\u001b[0;34m\u001b[0m\u001b[0m\n\u001b[1;32m     79\u001b[0m     \u001b[0mprint\u001b[0m \u001b[0;34m(\u001b[0m\u001b[0mhof\u001b[0m\u001b[0;34m[\u001b[0m\u001b[0;36m0\u001b[0m\u001b[0;34m]\u001b[0m\u001b[0;34m)\u001b[0m\u001b[0;34m\u001b[0m\u001b[0m\n",
      "\u001b[0;32m<ipython-input-1-7f0dcf799cdb>\u001b[0m in \u001b[0;36mplot_pred\u001b[0;34m()\u001b[0m\n\u001b[1;32m      5\u001b[0m     \u001b[0my_hat\u001b[0m \u001b[0;34m=\u001b[0m \u001b[0;34m[\u001b[0m\u001b[0;34m]\u001b[0m\u001b[0;34m\u001b[0m\u001b[0m\n\u001b[1;32m      6\u001b[0m     \u001b[0my\u001b[0m \u001b[0;34m=\u001b[0m \u001b[0;34m[\u001b[0m\u001b[0;34m]\u001b[0m\u001b[0;34m\u001b[0m\u001b[0m\n\u001b[0;32m----> 7\u001b[0;31m     \u001b[0;32mfor\u001b[0m \u001b[0ma\u001b[0m\u001b[0;34m,\u001b[0m \u001b[0mi\u001b[0m \u001b[0;32min\u001b[0m \u001b[0menumerate\u001b[0m\u001b[0;34m(\u001b[0m\u001b[0mpoints\u001b[0m\u001b[0;34m)\u001b[0m\u001b[0;34m:\u001b[0m\u001b[0;34m\u001b[0m\u001b[0m\n\u001b[0m\u001b[1;32m      8\u001b[0m         \u001b[0my_hat\u001b[0m\u001b[0;34m.\u001b[0m\u001b[0mappend\u001b[0m\u001b[0;34m(\u001b[0m\u001b[0mfunc\u001b[0m\u001b[0;34m(\u001b[0m\u001b[0mi\u001b[0m\u001b[0;34m)\u001b[0m\u001b[0;34m)\u001b[0m\u001b[0;34m\u001b[0m\u001b[0m\n\u001b[1;32m      9\u001b[0m         \u001b[0my\u001b[0m\u001b[0;34m.\u001b[0m\u001b[0mappend\u001b[0m\u001b[0;34m(\u001b[0m\u001b[0mp\u001b[0m\u001b[0;34m[\u001b[0m\u001b[0ma\u001b[0m\u001b[0;34m]\u001b[0m\u001b[0;34m)\u001b[0m\u001b[0;34m\u001b[0m\u001b[0m\n",
      "\u001b[0;31mNameError\u001b[0m: name 'points' is not defined"
     ]
    }
   ],
   "source": [
    "import operator\n",
    "import math\n",
    "import random\n",
    "import pandas as pd\n",
    "import numpy\n",
    "import time\n",
    "\n",
    "from deap import algorithms\n",
    "from deap import base\n",
    "from deap import creator\n",
    "from deap import tools\n",
    "from deap import gp\n",
    "import matplotlib.pyplot as plt\n",
    "\n",
    "\n",
    "# Define new functions\n",
    "def protectedDiv(left, right):\n",
    "    try:\n",
    "        return left / right\n",
    "    except ZeroDivisionError:\n",
    "        return 1\n",
    "\n",
    "pset = gp.PrimitiveSet(\"MAIN\", 1)\n",
    "pset.addPrimitive(operator.add, 2)\n",
    "pset.addPrimitive(operator.sub, 2)\n",
    "pset.addPrimitive(operator.mul, 2)\n",
    "pset.addPrimitive(protectedDiv, 2)\n",
    "pset.addPrimitive(operator.neg, 1)\n",
    "pset.addPrimitive(math.cos, 1)\n",
    "pset.addPrimitive(math.sin, 1)\n",
    "pset.addEphemeralConstant(\"rand101\", lambda: random.randint(-1,1))\n",
    "pset.renameArguments(ARG0='x')\n",
    "\n",
    "creator.create(\"FitnessMin\", base.Fitness, weights=(-1.0,))\n",
    "creator.create(\"Individual\", gp.PrimitiveTree, fitness=creator.FitnessMin)\n",
    "\n",
    "toolbox = base.Toolbox()\n",
    "toolbox.register(\"expr\", gp.genHalfAndHalf, pset=pset, min_=1, max_=2)\n",
    "toolbox.register(\"individual\", tools.initIterate, creator.Individual, toolbox.expr)\n",
    "toolbox.register(\"population\", tools.initRepeat, list, toolbox.individual)\n",
    "toolbox.register(\"compile\", gp.compile, pset=pset)\n",
    "\n",
    "def evalSymbReg(individual, points):\n",
    "    # Transform the tree expression in a callable function\n",
    "    func = toolbox.compile(expr=individual)\n",
    "    # Evaluate the mean squared error between the expression\n",
    "    # and the real function : x**4 + x**3 + x**2 + x\n",
    "    sqerrors = ((func(x) - x**4 - x**3 - x**2 - x)**2 for x in points)\n",
    "    return math.fsum(sqerrors) / len(points),\n",
    "\n",
    "toolbox.register(\"evaluate\", evalSymbReg, points=[x/10. for x in range(-10,10)])\n",
    "toolbox.register(\"select\", tools.selTournament, tournsize=3)\n",
    "toolbox.register(\"mate\", gp.cxOnePoint)\n",
    "toolbox.register(\"expr_mut\", gp.genFull, min_=0, max_=2)\n",
    "toolbox.register(\"mutate\", gp.mutUniform, expr=toolbox.expr_mut, pset=pset)\n",
    "\n",
    "toolbox.decorate(\"mate\", gp.staticLimit(key=operator.attrgetter(\"height\"), max_value=17))\n",
    "toolbox.decorate(\"mutate\", gp.staticLimit(key=operator.attrgetter(\"height\"), max_value=17))\n",
    "\n",
    "random.seed(318)\n",
    "\n",
    "pop = toolbox.population(n=300)\n",
    "hof = tools.HallOfFame(1)\n",
    "    \n",
    "stats_fit = tools.Statistics(lambda ind: ind.fitness.values)\n",
    "stats_size = tools.Statistics(len)\n",
    "mstats = tools.MultiStatistics(fitness=stats_fit, size=stats_size)\n",
    "mstats.register(\"avg\", numpy.mean)\n",
    "mstats.register(\"std\", numpy.std)\n",
    "mstats.register(\"min\", numpy.min)\n",
    "mstats.register(\"max\", numpy.max)\n",
    "    \n",
    "try:\n",
    "    pop, log = algorithms.eaSimple(pop, toolbox, 0.5, 0.1, 40, stats=mstats,\n",
    "                               halloffame=hof, verbose=True)\n",
    "    print (hof[0])\n",
    "    plot_pred()\n",
    "except MemoryError:\n",
    "    print (hof[0])\n",
    "    plot_pred()\n",
    "except KeyboardInterrupt:\n",
    "    print (hof[0])\n",
    "    plot_pred()\n",
    "\n"
   ]
  },
  {
   "cell_type": "code",
   "execution_count": 3,
   "metadata": {},
   "outputs": [],
   "source": [
    "points=[x/10. for x in range(-10,10)]"
   ]
  },
  {
   "cell_type": "code",
   "execution_count": 5,
   "metadata": {},
   "outputs": [
    {
     "data": {
      "text/plain": [
       "[-1.0,\n",
       " -0.9,\n",
       " -0.8,\n",
       " -0.7,\n",
       " -0.6,\n",
       " -0.5,\n",
       " -0.4,\n",
       " -0.3,\n",
       " -0.2,\n",
       " -0.1,\n",
       " 0.0,\n",
       " 0.1,\n",
       " 0.2,\n",
       " 0.3,\n",
       " 0.4,\n",
       " 0.5,\n",
       " 0.6,\n",
       " 0.7,\n",
       " 0.8,\n",
       " 0.9]"
      ]
     },
     "execution_count": 5,
     "metadata": {},
     "output_type": "execute_result"
    }
   ],
   "source": [
    "points"
   ]
  },
  {
   "cell_type": "code",
   "execution_count": 6,
   "metadata": {},
   "outputs": [
    {
     "ename": "NameError",
     "evalue": "name 'x' is not defined",
     "output_type": "error",
     "traceback": [
      "\u001b[0;31m---------------------------------------------------------------------------\u001b[0m",
      "\u001b[0;31mNameError\u001b[0m                                 Traceback (most recent call last)",
      "\u001b[0;32m<ipython-input-6-a7f4a5366567>\u001b[0m in \u001b[0;36m<module>\u001b[0;34m()\u001b[0m\n\u001b[0;32m----> 1\u001b[0;31m \u001b[0mlen\u001b[0m\u001b[0;34m(\u001b[0m\u001b[0mx\u001b[0m\u001b[0;34m)\u001b[0m\u001b[0;34m\u001b[0m\u001b[0m\n\u001b[0m",
      "\u001b[0;31mNameError\u001b[0m: name 'x' is not defined"
     ]
    }
   ],
   "source": [
    "len(x)"
   ]
  },
  {
   "cell_type": "code",
   "execution_count": null,
   "metadata": {},
   "outputs": [],
   "source": []
  }
 ],
 "metadata": {
  "kernelspec": {
   "display_name": "Python 3",
   "language": "python",
   "name": "python3"
  },
  "language_info": {
   "codemirror_mode": {
    "name": "ipython",
    "version": 3
   },
   "file_extension": ".py",
   "mimetype": "text/x-python",
   "name": "python",
   "nbconvert_exporter": "python",
   "pygments_lexer": "ipython3",
   "version": "3.5.2"
  }
 },
 "nbformat": 4,
 "nbformat_minor": 2
}
