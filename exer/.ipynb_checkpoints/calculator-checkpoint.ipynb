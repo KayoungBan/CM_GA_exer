{
 "cells": [
  {
   "cell_type": "code",
   "execution_count": 5,
   "metadata": {},
   "outputs": [
    {
     "ename": "SyntaxError",
     "evalue": "invalid syntax (<ipython-input-5-1122355d0856>, line 18)",
     "output_type": "error",
     "traceback": [
      "\u001b[0;36m  File \u001b[0;32m\"<ipython-input-5-1122355d0856>\"\u001b[0;36m, line \u001b[0;32m18\u001b[0m\n\u001b[0;31m    def calcul1(oper(var1,var2)):\u001b[0m\n\u001b[0m                    ^\u001b[0m\n\u001b[0;31mSyntaxError\u001b[0m\u001b[0;31m:\u001b[0m invalid syntax\n"
     ]
    }
   ],
   "source": [
    "import operator\n",
    "import math\n",
    "import random\n",
    "import pandas as pd\n",
    "import numpy\n",
    "import time\n",
    "\n",
    "from deap import algorithms\n",
    "from deap import base\n",
    "from deap import creator\n",
    "from deap import tools\n",
    "from deap import gp\n",
    "import matplotlib.pyplot as plt\n",
    "\n",
    "\n",
    "hof[0]=add(1,3)\n",
    "\n",
    "def calcul1(oper(var1,var2)):\n",
    "    if oper=add:\n",
    "        return var1+var2\n",
    "    if oper=sub:\n",
    "        return var1-var2\n",
    "    if oper=mul:\n",
    "        return var1*var2\n",
    "    \n",
    "\n",
    "calcul1(hof[0])\n",
    "\n",
    "\n"
   ]
  },
  {
   "cell_type": "code",
   "execution_count": 8,
   "metadata": {},
   "outputs": [
    {
     "ename": "ImportError",
     "evalue": "No module named 'glyph'",
     "output_type": "error",
     "traceback": [
      "\u001b[0;31m---------------------------------------------------------------------------\u001b[0m",
      "\u001b[0;31mImportError\u001b[0m                               Traceback (most recent call last)",
      "\u001b[0;32m<ipython-input-8-ae02f2b3ca1e>\u001b[0m in \u001b[0;36m<module>\u001b[0;34m()\u001b[0m\n\u001b[1;32m     18\u001b[0m \u001b[0;32mimport\u001b[0m \u001b[0mdeap\u001b[0m\u001b[0;34m.\u001b[0m\u001b[0mtools\u001b[0m\u001b[0;34m\u001b[0m\u001b[0m\n\u001b[1;32m     19\u001b[0m \u001b[0;34m\u001b[0m\u001b[0m\n\u001b[0;32m---> 20\u001b[0;31m \u001b[0;32mfrom\u001b[0m \u001b[0mglyph\u001b[0m \u001b[0;32mimport\u001b[0m \u001b[0mgp\u001b[0m\u001b[0;34m\u001b[0m\u001b[0m\n\u001b[0m\u001b[1;32m     21\u001b[0m \u001b[0;32mfrom\u001b[0m \u001b[0mglyph\u001b[0m\u001b[0;34m.\u001b[0m\u001b[0massessment\u001b[0m \u001b[0;32mimport\u001b[0m \u001b[0mconst_opt_scalar\u001b[0m\u001b[0;34m\u001b[0m\u001b[0m\n\u001b[1;32m     22\u001b[0m \u001b[0;32mfrom\u001b[0m \u001b[0mglyph\u001b[0m\u001b[0;34m.\u001b[0m\u001b[0mutils\u001b[0m \u001b[0;32mimport\u001b[0m \u001b[0mMemoize\u001b[0m\u001b[0;34m\u001b[0m\u001b[0m\n",
      "\u001b[0;31mImportError\u001b[0m: No module named 'glyph'"
     ]
    }
   ],
   "source": [
    "from functools import partial\n",
    "\n",
    "import operator\n",
    "import math\n",
    "import random\n",
    "import pandas as pd\n",
    "import numpy\n",
    "import time\n",
    "\n",
    "from deap import algorithms\n",
    "from deap import base\n",
    "from deap import creator\n",
    "from deap import tools\n",
    "from deap import gp\n",
    "import matplotlib.pyplot as plt\n",
    "import numpy as np\n",
    "import deap.gp\n",
    "import deap.tools\n",
    "\n",
    "from glyph import gp\n",
    "from glyph.assessment import const_opt_scalar\n",
    "from glyph.utils import Memoize\n",
    "from glyph.utils.numeric import silent_numpy, nrmse\n",
    "\n",
    "\n",
    "class Individual(gp.AExpressionTree):\n",
    "    \"\"\"The gp representation (genotype) of the actuator for the control problem.\"\"\"\n",
    "\n",
    "    pset = gp.numpy_primitive_set(arity=1, categories=['algebraic', 'trigonometric', 'exponential', 'symc'])\n",
    "\n",
    "\n",
    "@silent_numpy\n",
    "def error(ind, *args):\n",
    "    g = lambda x: x**2 - 1.1\n",
    "    points = np.linspace(-1, 1, 100, endpoint=True)\n",
    "    y = g(points)\n",
    "    f = gp.individual.numpy_phenotype(ind)\n",
    "    yhat = f(points, *args)\n",
    "\n",
    "    if np.isscalar(yhat):\n",
    "        yhat = np.ones_like(y) * yhat\n",
    "    return nrmse(y, yhat)\n",
    "\n",
    "\n",
    "@Memoize\n",
    "def measure(ind):\n",
    "    popt, err_opr = const_opt_scalar(error, ind)\n",
    "    ind.popt = popt\n",
    "    return err_opr, len(ind)\n",
    "\n",
    "\n",
    "def update_fitness(population, map=map):\n",
    "    invalid = [p for p in population if not p.fitness.valid]\n",
    "    fitnesses = map(measure, invalid)\n",
    "    for ind, fit in zip(invalid, fitnesses):\n",
    "        ind.fitness.values = fit\n",
    "    return population\n",
    "\n",
    "\n",
    "def main():\n",
    "    pop_size = 100\n",
    "\n",
    "    mate = deap.gp.cxOnePoint\n",
    "    expr_mut = partial(deap.gp.genFull, min_=0, max_=2)\n",
    "    mutate = partial(deap.gp.mutUniform, expr=expr_mut, pset=Individual.pset)\n",
    "\n",
    "    algorithm = gp.algorithms.AgeFitness(mate, mutate, deap.tools.selNSGA2, Individual.create_population)\n",
    "\n",
    "    pop = update_fitness(Individual.create_population(pop_size))\n",
    "\n",
    "    for gen in range(20):\n",
    "        pop = algorithm.evolve(pop)\n",
    "        pop = update_fitness(pop)\n",
    "        best = deap.tools.selBest(pop, 1)[0]\n",
    "        print(gp.individual.simplify_this(best), best.fitness.values)\n",
    "\n",
    "\n",
    "if __name__ == \"__main__\":\n",
    "    main()"
   ]
  },
  {
   "cell_type": "code",
   "execution_count": null,
   "metadata": {},
   "outputs": [],
   "source": []
  }
 ],
 "metadata": {
  "kernelspec": {
   "display_name": "Python 3",
   "language": "python",
   "name": "python3"
  },
  "language_info": {
   "codemirror_mode": {
    "name": "ipython",
    "version": 3
   },
   "file_extension": ".py",
   "mimetype": "text/x-python",
   "name": "python",
   "nbconvert_exporter": "python",
   "pygments_lexer": "ipython3",
   "version": "3.5.2"
  }
 },
 "nbformat": 4,
 "nbformat_minor": 2
}
