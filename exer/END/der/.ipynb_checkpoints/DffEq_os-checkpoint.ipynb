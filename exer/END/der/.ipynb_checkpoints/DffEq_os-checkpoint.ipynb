{
 "cells": [
  {
   "cell_type": "code",
   "execution_count": 9,
   "metadata": {},
   "outputs": [
    {
     "data": {
      "image/png": "[encoded data removed]",
      "text/plain": [
       "<matplotlib.figure.Figure at 0x7ff9038df4e0>"
      ]
     },
     "metadata": {},
     "output_type": "display_data"
    }
   ],
   "source": [
    "from sympy import *\n",
    "import numpy as np\n",
    "import matplotlib.pyplot as plt\n",
    "from pandas import DataFrame\n",
    "\n",
    "x = Symbol('x')\n",
    "\n",
    "def add(a,b):\n",
    "    return a+b\n",
    "\n",
    "def expe(a):\n",
    "    return exp(-a)\n",
    "\n",
    "def mul(a,b):\n",
    "    return a*b\n",
    "\n",
    "def neg(a):\n",
    "    return -a\n",
    "\n",
    "def diff1(a):\n",
    "    f = diff(a,x)\n",
    "    return f\n",
    "\n",
    "t = np.arange(0,5,0.01)\n",
    "\n",
    "d = mul(expe(x),cos(x))\n",
    "d1 = diff(d,x)\n",
    "d2 = diff(d1,x)\n",
    "\n",
    "\n",
    "y = lambdify(x,d)\n",
    "y1 = lambdify(x,d1)\n",
    "y2 = lambdify(x,d2)\n",
    "\n",
    "f = y(t)\n",
    "f1 = y1(t)\n",
    "f2 = y2(t)\n",
    "\n",
    "plt.plot(t,f,t,f1,t,f2)\n",
    "plt.xlabel('time')  # x-axis\n",
    "plt.ylabel('x(t)')  # y-axis\n",
    "plt.legend(['f','df','d^2 f'])\n",
    "plt.grid()  # grid\n",
    "plt.show()  # plot show\n",
    "\n",
    "table = {'t' : t, 'x' : f}\n",
    "table_r = {'t' : t, 'x' : f1}\n",
    "table_rr = {'t' : t, 'x' : f2}\n",
    "\n",
    "data = DataFrame(table)\n",
    "data.to_csv(\"//home//ban94gy//jupyter//ML//exer//END//der//os.csv\")\n",
    "\n",
    "data_r = DataFrame(table_r)\n",
    "data_r.to_csv(\"//home//ban94gy//jupyter//ML//exer//END//der//os_r.csv\")\n",
    "\n",
    "data_r = DataFrame(table_rr)\n",
    "data_r.to_csv(\"//home//ban94gy//jupyter//ML//exer//END//der//os_rr.csv\")\n"
   ]
  },
  {
   "cell_type": "code",
   "execution_count": 7,
   "metadata": {},
   "outputs": [
    {
     "data": {
      "text/plain": [
       "(-sqrt(exp(-x))/2 - 1 + 1/(2*sqrt(x)) - exp(-sqrt(x))/(2*sqrt(x)))**2*sin(sqrt(x) - x + sqrt(exp(-x)) + exp(-sqrt(x))) - (sqrt(exp(-x))/4 + exp(-sqrt(x))/(4*x) - 1/(4*x**(3/2)) + exp(-sqrt(x))/(4*x**(3/2)))*cos(sqrt(x) - x + sqrt(exp(-x)) + exp(-sqrt(x)))"
      ]
     },
     "execution_count": 7,
     "metadata": {},
     "output_type": "execute_result"
    }
   ],
   "source": [
    "d2"
   ]
  },
  {
   "cell_type": "code",
   "execution_count": 22,
   "metadata": {},
   "outputs": [
    {
     "data": {
      "text/plain": [
       "<matplotlib.figure.Figure at 0x7fc2b410c048>"
      ]
     },
     "metadata": {},
     "output_type": "display_data"
    },
    {
     "data": {
      "text/plain": [
       "<sympy.plotting.plot.Plot at 0x7fc2b4114978>"
      ]
     },
     "execution_count": 22,
     "metadata": {},
     "output_type": "execute_result"
    }
   ],
   "source": [
    "plot(d,x)"
   ]
  },
  {
   "cell_type": "code",
   "execution_count": null,
   "metadata": {},
   "outputs": [],
   "source": []
  }
 ],
 "metadata": {
  "kernelspec": {
   "display_name": "Python 3",
   "language": "python",
   "name": "python3"
  },
  "language_info": {
   "codemirror_mode": {
    "name": "ipython",
    "version": 3
   },
   "file_extension": ".py",
   "mimetype": "text/x-python",
   "name": "python",
   "nbconvert_exporter": "python",
   "pygments_lexer": "ipython3",
   "version": "3.5.2"
  }
 },
 "nbformat": 4,
 "nbformat_minor": 2
}
