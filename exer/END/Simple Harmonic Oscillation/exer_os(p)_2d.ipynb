{
 "cells": [
  {
   "cell_type": "code",
   "execution_count": 5,
   "metadata": {
    "scrolled": true
   },
   "outputs": [
    {
     "name": "stdout",
     "output_type": "stream",
     "text": [
      "\n"
     ]
    },
    {
     "name": "stderr",
     "output_type": "stream",
     "text": [
      "/home/ban94gy/ban/local/lib/python3.5/site-packages/deap/creator.py:141: RuntimeWarning: A class named 'FitnessMin' has already been created and it will be overwritten. Consider deleting previous creation of that class or rename it.\n",
      "  RuntimeWarning)\n",
      "/home/ban94gy/ban/local/lib/python3.5/site-packages/deap/creator.py:141: RuntimeWarning: A class named 'Individual' has already been created and it will be overwritten. Consider deleting previous creation of that class or rename it.\n",
      "  RuntimeWarning)\n"
     ]
    },
    {
     "name": "stdout",
     "output_type": "stream",
     "text": [
    "    \n",
    "    #############################################C.O, Muta,Gener##########\n",
    "    try:\n",
    "        pop, log = algorithms.eaSimple(pop, toolbox, 0.8, 0.8, NoT, stats=mstats,\n",
    "                                       halloffame=hof, verbose=True)\n",
    "        print (hof[0])\n",
    "\n",
    "\n",
    "    except MemoryError:\n",
    "        print (hof[0])\n",
    "\n",
    "\n",
    "    except KeyboardInterrupt:\n",
    "        print (hof[0])\n",
    "\n",
    "    \n",
    "    \n",
    "    pop = toolbox.population(n=NeV)\n",
    "    hof1 = tools.HallOfFame(1)\n",
    "    \n",
    "    stats_fit = tools.Statistics(lambda ind: ind.fitness.values)\n",
    "    stats_size = tools.Statistics(len)\n",
    "    mstats = tools.MultiStatistics(fitness=stats_fit, size=stats_size)\n",
    "    \n",
    "    mstats.register(\"min\", numpy.min)\n",
    "    mstats.register(\"max\", numpy.max)\n",
    "    toolbox.register(\"evaluate\", evalSymbReg2, points=t)\n",
    "    \n",
    "    ## y계산\n",
    "    #############################################C.O, Muta,Gener##########\n",
    "    try:\n",
    "        pop, log = algorithms.eaSimple(pop, toolbox, 0.8, 0.8, NoT, stats=mstats,\n",
    "                                       halloffame=hof1, verbose=True)\n",
    "        print (hof1[0])\n",
    "        \n",
    "        plot_pred(hof, hof1)\n",
    "\n",
    "    except MemoryError:\n",
    "        print (hof1[0])\n",
    "        plot_pred(hof, hof1)\n",
    "    except KeyboardInterrupt:\n",
    "        print (hof1[0])\n",
    "        plot_pred(hof, hof1)\n",
    "\n",
    "if __name__ == \"__main__\":\n",
    "    main()\n",
    "    \n",
    "\n",
    "    "
   ]
  },
  {
   "cell_type": "code",
   "execution_count": null,
   "metadata": {},
   "outputs": [],
   "source": []
  }
 ],
 "metadata": {
  "kernelspec": {
   "display_name": "Python 3",
   "language": "python",
   "name": "python3"
  },
  "language_info": {
   "codemirror_mode": {
    "name": "ipython",
    "version": 3
   },
   "file_extension": ".py",
   "mimetype": "text/x-python",
   "name": "python",
   "nbconvert_exporter": "python",
   "pygments_lexer": "ipython3",
   "version": "3.5.2"
  }
 },
 "nbformat": 4,
 "nbformat_minor": 2
}
