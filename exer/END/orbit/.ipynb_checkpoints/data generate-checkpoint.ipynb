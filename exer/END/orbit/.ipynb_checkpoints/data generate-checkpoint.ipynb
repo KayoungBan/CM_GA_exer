{
 "cells": [
  {
   "cell_type": "code",
   "execution_count": 6,
   "metadata": {},
   "outputs": [
    {
     "name": "stdout",
     "output_type": "stream",
     "text": [
      "Using matplotlib backend: TkAgg\n"
     ]
    }
   ],
   "source": [
    "%matplotlib\n",
    "\n",
    "import numpy\n",
    "import math\n",
    "import pylab\n",
    "import matplotlib.animation as animation\n",
    "from matplotlib.font_manager import FontProperties\n",
    "\n",
    "\n",
    "\n",
    "\n",
    "\n",
    "class Orbit:\n",
    "    \"\"\"\n",
    "    Planet class.  init_state is [x1, y1]\n",
    "    Contains information about the planet's\n",
    "    current position, velocity and mass\n",
    "    and other general information.\n",
    "    \"\"\"\n",
    "#####################################################################################\n",
    "    def __init__(self,\n",
    "                 init_state = [149.6e6 * 1000, 0],\n",
    "                 m1 = 1.98892 * 10 ** 30 #Sun mass\n",
    "                 m2 = 5.9742 * 10 ** 24 #Earth mass\n",
    "                 G = 6.67428e-11 # Newton's gravitational constant,\n",
    "                 AU = (149.6e6 * 1000) # Astronomical unit in metres,\n",
    "                 timestep = 24 * 3600 # One day in seconds (timestep for the simulation)\n",
    "                 origin = (0, 0)):\n",
    "        \n",
    "        self.init_state = np.asarray(init_state, dtype='float')\n",
    "        self.params = (m1, m2, G, AU)\n",
    "        self.origin = origin\n",
    "        self.time_elapsed = 0\n",
    "\n",
    "        \n",
    "#####################################################################################\n",
    "    def compute_force(self, others):\n",
    "        \"\"\"\n",
    "        Compute the total exerted force on the\n",
    "        body at the current moment.\n",
    "        \"\"\"\n",
    "        (m1, m2, G, AU) = self.params\n",
    "        \n",
    "        self.total_fx = self.total_fy = 0.0\n",
    "        \n",
    "        for other in others:\n",
    "            # Compute the distance of the other body.\n",
    "            sx, sy = self.px, self.py\n",
    "            ox, oy = other.px, other.py\n",
    "            dx = (ox-sx)\n",
    "            dy = (oy-sy)\n",
    "            d = numpy.sqrt(dx ** 2 + dy ** 2)\n",
    "\n",
    "            # Compute the force of attraction\n",
    "            f = G * self.mass * other.mass / (d ** 2)\n",
    "\n",
    "            # Compute the direction of the force.\n",
    "            theta = math.atan2(dy, dx)\n",
    "            fx = math.cos(theta) * f\n",
    "            fy = math.sin(theta) * f\n",
    "\n",
    "            # Add to the total force exerted on the planet\n",
    "            self.total_fx += fx\n",
    "            self.total_fy += fy\n",
    "            \n",
    "#####################################################################################\n",
    "    def update_position(self):\n",
    "        \"\"\"\n",
    "        Update particle velocity and position based on the\n",
    "        current exterted total force on the body.\n",
    "        \"\"\"\n",
    "        (m1, m2, G, AU) = self.params\n",
    "        \n",
    "        \n",
    "        self.vx += self.total_fx / self.mass * timestep\n",
    "        self.vy += self.total_fy / self.mass * timestep\n",
    "        self.px += self.vx * timestep\n",
    "        self.py += self.vy * timestep\n",
    "        \n",
    "#####################################################################################        \n",
    "def animate(i, bodies, lines):\n",
    "    \"\"\"\n",
    "    Animation function. Updates the\n",
    "    plot on each interation.\n",
    "    \"\"\"\n",
    "    for ind, body in enumerate(bodies):\n",
    "        body.compute_force(numpy.delete(bodies, ind))\n",
    "        \n",
    "    for body in bodies:\n",
    "        body.update_position()\n",
    "        \n",
    "    for i in range(len(bodies)):\n",
    "        lines[i].set_data(bodies[i].px / AU, bodies[i].py / AU)\n",
    "        \n",
    "    \n",
    "    return lines\n",
    "#####################################################################################\n",
    "\n",
    "Sun = planet() # Instance of planet Sun\n",
    "Earth = planet() # Instance of planet Earth\n",
    "\n",
    "Sun.mass = 1.98892 * 10 ** 30\n",
    "Sun.name = 'Sun'\n",
    "\n",
    "Earth.mass = 5.9742 * 10 ** 24\n",
    "Earth.px = -1 * AU\n",
    "Earth.vy = 29.783 * 1000\n",
    "Earth.name = 'Earth'\n",
    "\n",
    "#####################################################################################\n",
    "\n",
    "\n",
    "bodies = [Sun, Earth]\n",
    "lines = [None] * len(bodies)\n",
    "fig = pylab.figure(figsize=(8,8))\n",
    "ax = pylab.subplot()\n",
    "\n",
    "for i in range(len(bodies)):\n",
    "    lines[i], = ax.plot(bodies[i].px / AU, bodies[i].py / AU,\n",
    "    marker='o', label=bodies[i].name)\n",
    "\n",
    "ani = animation.FuncAnimation(fig, animate, numpy.arange(1, 500),\n",
    "    fargs=[bodies, lines], interval=20, blit=True, repeat=True)\n",
    "\n",
    "data = {'x':[], 'y':[], 'F' :[]}\n",
    "\n",
    "\n",
    "ax.set_xlabel('x [AU]')\n",
    "ax.set_ylabel('y [AU]')\n",
    "\n",
    "ax.set_xlim(-1.2, 1.2)\n",
    "ax.set_ylim(-1.2, 1.2)\n",
    "legend = ax.legend(loc=9, bbox_to_anchor=(0.5, 1.1), ncol=3)\n",
    "legend.legendHandles[0]._legmarker.set_markersize(6)\n",
    "\n",
    "pylab.show()\n",
    "\n"
   ]
  },
  {
   "cell_type": "code",
   "execution_count": 8,
   "metadata": {},
   "outputs": [
    {
     "data": {
      "text/plain": [
       "730"
      ]
     },
     "execution_count": 8,
     "metadata": {},
     "output_type": "execute_result"
    }
   ],
   "source": [
    "len(data['F'])"
   ]
  },
  {
   "cell_type": "code",
   "execution_count": null,
   "metadata": {},
   "outputs": [],
   "source": []
  },
  {
   "cell_type": "code",
   "execution_count": null,
   "metadata": {},
   "outputs": [],
   "source": []
  },
  {
   "cell_type": "code",
   "execution_count": null,
   "metadata": {},
   "outputs": [],
   "source": []
  },
  {
   "cell_type": "code",
   "execution_count": null,
   "metadata": {},
   "outputs": [],
   "source": []
  },
  {
   "cell_type": "code",
   "execution_count": 12,
   "metadata": {},
   "outputs": [
    {
     "name": "stdout",
     "output_type": "stream",
     "text": [
      "Using matplotlib backend: TkAgg\n"
     ]
    }
   ],
   "source": [
    "%matplotlib\n",
    "\n",
    "import numpy\n",
    "import math\n",
    "import pylab\n",
    "import matplotlib.animation as animation\n",
    "from matplotlib.font_manager import FontProperties\n",
    "\n",
    "G = 6.67428e-11 # Newton's gravitational constant\n",
    "AU = (149.6e6 * 1000) # Astronomical unit in metres\n",
    "timestep = 24 * 3600 # One day in seconds (timestep for the simulation)\n",
    "\n",
    "\n",
    "\n",
    "class planet(object):\n",
    "    \"\"\"\n",
    "    Planet class.\n",
    "    Contains information about the planet's\n",
    "    current position, velocity and mass\n",
    "    and other general information.\n",
    "    \"\"\"\n",
    "#####################################################################################\n",
    "    def __init__(self):\n",
    "        self.px = 0.0\n",
    "        self.py = 0.0\n",
    "        self.vx = 0.0\n",
    "        self.vy = 0.0\n",
    "        self.mass = None\n",
    "        self.name = None\n",
    "        \n",
    "#####################################################################################\n",
    "    def compute_force(self, others):\n",
    "        \"\"\"\n",
    "        Compute the total exerted force on the\n",
    "        body at the current moment.\n",
    "        \"\"\"\n",
    "        self.total_fx = self.total_fy = 0.0\n",
    "        \n",
    "        for other in others:\n",
    "            # Compute the distance of the other body.\n",
    "            sx, sy = self.px, self.py\n",
    "            ox, oy = other.px, other.py\n",
    "            dx = (ox-sx)\n",
    "            dy = (oy-sy)\n",
    "            d = numpy.sqrt(dx ** 2 + dy ** 2)\n",
    "\n",
    "            # Compute the force of attraction\n",
    "            f = G * self.mass * other.mass / (d ** 2)\n",
    "\n",
    "            # Compute the direction of the force.\n",
    "            theta = math.atan2(dy, dx)\n",
    "            fx = math.cos(theta) * f\n",
    "            fy = math.sin(theta) * f\n",
    "\n",
    "            # Add to the total force exerted on the planet\n",
    "            self.total_fx += fx\n",
    "            self.total_fy += fy\n",
    "            \n",
    "#         return (self.total_fx,self.total_fy)\n",
    "#####################################################################################\n",
    "    def update_position(self):\n",
    "        \"\"\"\n",
    "        Update particle velocity and position based on the\n",
    "        current exterted total force on the body.\n",
    "        \"\"\"\n",
    "        self.vx += self.total_fx / self.mass * timestep\n",
    "        self.vy += self.total_fy / self.mass * timestep\n",
    "        self.px += self.vx * timestep\n",
    "        self.py += self.vy * timestep\n",
    "        \n",
    "#         return (self.vx,self.vy,self.px,self.py)\n",
    "        \n",
    "#####################################################################################        \n",
    "def animate(i, bodies, lines):\n",
    "    \"\"\"\n",
    "    Animation function. Updates the\n",
    "    plot on each interation.\n",
    "    \"\"\"\n",
    "    for ind, body in enumerate(bodies):\n",
    "        body.compute_force(numpy.delete(bodies, ind))\n",
    "\n",
    "        \n",
    "    for body in bodies:\n",
    "        body.update_position()\n",
    "\n",
    "\n",
    "    for i in range(len(bodies)):\n",
    "        lines[i].set_data(bodies[i].px / AU, bodies[i].py / AU)\n",
    "        \n",
    "        data['pos'].append([bodies[i].px / AU, bodies[i].py / AU])\n",
    "        data['v'].append([bodies[i].vx / AU, bodies[i].vy / AU])\n",
    "#         data['F'].append([bodies[i].fx / AU, bodies[i].fy / AU])\n",
    "    \n",
    "    return lines\n",
    "#####################################################################################\n",
    "\n",
    "Sun = planet() # Instance of planet Sun\n",
    "Earth = planet() # Instance of planet Earth\n",
    "\n",
    "Sun.mass = 1.98892 * 10 ** 30\n",
    "Sun.name = 'Sun'\n",
    "\n",
    "Earth.mass = 5.9742 * 10 ** 24\n",
    "Earth.px = -1 * AU\n",
    "Earth.vy = 29.783 * 1000\n",
    "Earth.name = 'Earth'\n",
    "\n",
    "#####################################################################################\n",
    "\n",
    "\n",
    "bodies = [Sun, Earth]\n",
    "lines = [None] * len(bodies)\n",
    "fig = pylab.figure(figsize=(8,8))\n",
    "ax = pylab.subplot()\n",
    "\n",
    "for i in range(len(bodies)):\n",
    "    lines[i], = ax.plot(bodies[i].px / AU, bodies[i].py / AU,\n",
    "    marker='o', label=bodies[i].name)\n",
    "\n",
    "ani = animation.FuncAnimation(fig, animate, numpy.arange(1, 500),\n",
    "    fargs=[bodies, lines], interval=20, blit=True, repeat=True)\n",
    "\n",
    "data = {'pos':[],'v':[], 'F' :[]}\n",
    "\n",
    "\n",
    "ax.set_xlabel('x [AU]')\n",
    "ax.set_ylabel('y [AU]')\n",
    "\n",
    "ax.set_xlim(-1.2, 1.2)\n",
    "ax.set_ylim(-1.2, 1.2)\n",
    "legend = ax.legend(loc=9, bbox_to_anchor=(0.5, 1.1), ncol=3)\n",
    "legend.legendHandles[0]._legmarker.set_markersize(6)\n",
    "\n",
    "pylab.show()\n",
    "\n"
   ]
  },
  {
   "cell_type": "code",
   "execution_count": 34,
   "metadata": {},
   "outputs": [
    {
     "data": {
      "text/plain": [
       "730"
      ]
     },
     "execution_count": 34,
     "metadata": {},
     "output_type": "execute_result"
    }
   ],
   "source": [
    "len(data['v'])"
   ]
  },
  {
   "cell_type": "code",
   "execution_count": 41,
   "metadata": {},
   "outputs": [
    {
     "data": {
      "text/plain": [
       "[<matplotlib.lines.Line2D at 0x7f96700465c0>]"
      ]
     },
     "execution_count": 41,
     "metadata": {},
     "output_type": "execute_result"
    }
   ],
   "source": [
    "import matplotlib.pyplot as plt\n",
    "for key in data.keys():\n",
    "    data[key] = numpy.array(data[key])\n",
    "\n",
    "t = list(numpy.arange(len(data['v'])))\n",
    "\n",
    "plt.plot(t,data['pos'][:,0]*10**20)\n",
    "plt.plot(t,data['pos'][:,1]*10**20)\n"
   ]
  },
  {
   "cell_type": "code",
   "execution_count": 35,
   "metadata": {},
   "outputs": [
    {
     "data": {
      "text/plain": [
       "730"
      ]
     },
     "execution_count": 35,
     "metadata": {},
     "output_type": "execute_result"
    }
   ],
   "source": [
    "len(t)"
   ]
  },
  {
   "cell_type": "code",
   "execution_count": null,
   "metadata": {},
   "outputs": [],
   "source": []
  }
 ],
 "metadata": {
  "kernelspec": {
   "display_name": "Python 3",
   "language": "python",
   "name": "python3"
  },
  "language_info": {
   "codemirror_mode": {
    "name": "ipython",
    "version": 3
   },
   "file_extension": ".py",
   "mimetype": "text/x-python",
   "name": "python",
   "nbconvert_exporter": "python",
   "pygments_lexer": "ipython3",
   "version": "3.5.2"
  }
 },
 "nbformat": 4,
 "nbformat_minor": 2
}
